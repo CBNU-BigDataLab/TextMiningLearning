{
 "cells": [
  {
   "cell_type": "code",
   "execution_count": null,
   "metadata": {},
   "outputs": [],
   "source": [
    "## Creating Word Vector using Word2Vec"
   ]
  },
  {
   "cell_type": "code",
   "execution_count": 2,
   "metadata": {},
   "outputs": [],
   "source": [
    "import nltk\n",
    "from nltk import word_tokenize, sent_tokenize\n",
    "import gensim\n",
    "from gensim.models.word2vec import Word2Vec\n",
    "from sklearn.manifold import TSNE\n",
    "import pandas as pd\n",
    "from bokeh.io import output_notebook\n",
    "from bokeh.plotting import show, figure\n",
    "%matplotlib inline"
   ]
  },
  {
   "cell_type": "code",
   "execution_count": 4,
   "metadata": {},
   "outputs": [
    {
     "name": "stdout",
     "output_type": "stream",
     "text": [
      "[nltk_data] Downloading package punkt to\n",
      "[nltk_data]     C:\\Users\\HP1\\AppData\\Roaming\\nltk_data...\n",
      "[nltk_data]   Package punkt is already up-to-date!\n"
     ]
    },
    {
     "data": {
      "text/plain": [
       "True"
      ]
     },
     "execution_count": 4,
     "metadata": {},
     "output_type": "execute_result"
    }
   ],
   "source": [
    "nltk.download('punkt')"
   ]
  },
  {
   "cell_type": "code",
   "execution_count": 6,
   "metadata": {},
   "outputs": [
    {
     "name": "stdout",
     "output_type": "stream",
     "text": [
      "[nltk_data] Downloading package gutenberg to\n",
      "[nltk_data]     C:\\Users\\HP1\\AppData\\Roaming\\nltk_data...\n",
      "[nltk_data]   Package gutenberg is already up-to-date!\n"
     ]
    },
    {
     "data": {
      "text/plain": [
       "True"
      ]
     },
     "execution_count": 6,
     "metadata": {},
     "output_type": "execute_result"
    }
   ],
   "source": [
    "nltk.download('gutenberg')"
   ]
  },
  {
   "cell_type": "code",
   "execution_count": 7,
   "metadata": {},
   "outputs": [],
   "source": [
    "from nltk.corpus import gutenberg"
   ]
  },
  {
   "cell_type": "code",
   "execution_count": 8,
   "metadata": {},
   "outputs": [
    {
     "data": {
      "text/plain": [
       "['austen-emma.txt',\n",
       " 'austen-persuasion.txt',\n",
       " 'austen-sense.txt',\n",
       " 'bible-kjv.txt',\n",
       " 'blake-poems.txt',\n",
       " 'bryant-stories.txt',\n",
       " 'burgess-busterbrown.txt',\n",
       " 'carroll-alice.txt',\n",
       " 'chesterton-ball.txt',\n",
       " 'chesterton-brown.txt',\n",
       " 'chesterton-thursday.txt',\n",
       " 'edgeworth-parents.txt',\n",
       " 'melville-moby_dick.txt',\n",
       " 'milton-paradise.txt',\n",
       " 'shakespeare-caesar.txt',\n",
       " 'shakespeare-hamlet.txt',\n",
       " 'shakespeare-macbeth.txt',\n",
       " 'whitman-leaves.txt']"
      ]
     },
     "execution_count": 8,
     "metadata": {},
     "output_type": "execute_result"
    }
   ],
   "source": [
    "gutenberg.fileids()"
   ]
  },
  {
   "cell_type": "code",
   "execution_count": 9,
   "metadata": {},
   "outputs": [
    {
     "data": {
      "text/plain": [
       "18"
      ]
     },
     "execution_count": 9,
     "metadata": {},
     "output_type": "execute_result"
    }
   ],
   "source": [
    "len(gutenberg.fileids())"
   ]
  },
  {
   "cell_type": "code",
   "execution_count": 11,
   "metadata": {},
   "outputs": [],
   "source": [
    "gberg_sent_tokens = sent_tokenize(gutenberg.raw())"
   ]
  },
  {
   "cell_type": "code",
   "execution_count": 12,
   "metadata": {},
   "outputs": [
    {
     "data": {
      "text/plain": [
       "['[Emma by Jane Austen 1816]\\n\\nVOLUME I\\n\\nCHAPTER I\\n\\n\\nEmma Woodhouse, handsome, clever, and rich, with a comfortable home\\nand happy disposition, seemed to unite some of the best blessings\\nof existence; and had lived nearly twenty-one years in the world\\nwith very little to distress or vex her.',\n",
       " \"She was the youngest of the two daughters of a most affectionate,\\nindulgent father; and had, in consequence of her sister's marriage,\\nbeen mistress of his house from a very early period.\",\n",
       " 'Her mother\\nhad died too long ago for her to have more than an indistinct\\nremembrance of her caresses; and her place had been supplied\\nby an excellent woman as governess, who had fallen little short\\nof a mother in affection.',\n",
       " \"Sixteen years had Miss Taylor been in Mr. Woodhouse's family,\\nless as a governess than a friend, very fond of both daughters,\\nbut particularly of Emma.\",\n",
       " 'Between _them_ it was more the intimacy\\nof sisters.']"
      ]
     },
     "execution_count": 12,
     "metadata": {},
     "output_type": "execute_result"
    }
   ],
   "source": [
    "gberg_sent_tokens[0:5]"
   ]
  },
  {
   "cell_type": "code",
   "execution_count": 13,
   "metadata": {},
   "outputs": [
    {
     "data": {
      "text/plain": [
       "['[Emma by Jane Austen 1816]\\n\\nVOLUME I\\n\\nCHAPTER I\\n\\n\\nEmma Woodhouse, handsome, clever, and rich, with a comfortable home\\nand happy disposition, seemed to unite some of the best blessings\\nof existence; and had lived nearly twenty-one years in the world\\nwith very little to distress or vex her.',\n",
       " \"She was the youngest of the two daughters of a most affectionate,\\nindulgent father; and had, in consequence of her sister's marriage,\\nbeen mistress of his house from a very early period.\",\n",
       " 'Her mother\\nhad died too long ago for her to have more than an indistinct\\nremembrance of her caresses; and her place had been supplied\\nby an excellent woman as governess, who had fallen little short\\nof a mother in affection.',\n",
       " \"Sixteen years had Miss Taylor been in Mr. Woodhouse's family,\\nless as a governess than a friend, very fond of both daughters,\\nbut particularly of Emma.\",\n",
       " 'Between _them_ it was more the intimacy\\nof sisters.']"
      ]
     },
     "execution_count": 13,
     "metadata": {},
     "output_type": "execute_result"
    }
   ],
   "source": [
    "gberg_sent_tokens[:5]"
   ]
  },
  {
   "cell_type": "code",
   "execution_count": 14,
   "metadata": {},
   "outputs": [
    {
     "data": {
      "text/plain": [
       "\"She was the youngest of the two daughters of a most affectionate,\\nindulgent father; and had, in consequence of her sister's marriage,\\nbeen mistress of his house from a very early period.\""
      ]
     },
     "execution_count": 14,
     "metadata": {},
     "output_type": "execute_result"
    }
   ],
   "source": [
    "gberg_sent_tokens[1]"
   ]
  },
  {
   "cell_type": "code",
   "execution_count": 15,
   "metadata": {},
   "outputs": [
    {
     "data": {
      "text/plain": [
       "['She',\n",
       " 'was',\n",
       " 'the',\n",
       " 'youngest',\n",
       " 'of',\n",
       " 'the',\n",
       " 'two',\n",
       " 'daughters',\n",
       " 'of',\n",
       " 'a',\n",
       " 'most',\n",
       " 'affectionate',\n",
       " ',',\n",
       " 'indulgent',\n",
       " 'father',\n",
       " ';',\n",
       " 'and',\n",
       " 'had',\n",
       " ',',\n",
       " 'in',\n",
       " 'consequence',\n",
       " 'of',\n",
       " 'her',\n",
       " 'sister',\n",
       " \"'s\",\n",
       " 'marriage',\n",
       " ',',\n",
       " 'been',\n",
       " 'mistress',\n",
       " 'of',\n",
       " 'his',\n",
       " 'house',\n",
       " 'from',\n",
       " 'a',\n",
       " 'very',\n",
       " 'early',\n",
       " 'period',\n",
       " '.']"
      ]
     },
     "execution_count": 15,
     "metadata": {},
     "output_type": "execute_result"
    }
   ],
   "source": [
    "word_tokenize(gberg_sent_tokens[1])"
   ]
  },
  {
   "cell_type": "code",
   "execution_count": 18,
   "metadata": {},
   "outputs": [
    {
     "data": {
      "text/plain": [
       "['아이폰8+', '새', '제품', '배터리', '스웰링이', '있었네요']"
      ]
     },
     "execution_count": 18,
     "metadata": {},
     "output_type": "execute_result"
    }
   ],
   "source": [
    "word_tokenize(\"아이폰8+ 새 제품 배터리 스웰링이 있었네요\")"
   ]
  },
  {
   "cell_type": "code",
   "execution_count": 19,
   "metadata": {},
   "outputs": [
    {
     "data": {
      "text/plain": [
       "['아이폰8+새제품배터리스웰링이있었네요']"
      ]
     },
     "execution_count": 19,
     "metadata": {},
     "output_type": "execute_result"
    }
   ],
   "source": [
    "word_tokenize(\"아이폰8+새제품배터리스웰링이있었네요\")"
   ]
  },
  {
   "cell_type": "code",
   "execution_count": 20,
   "metadata": {},
   "outputs": [
    {
     "data": {
      "text/plain": [
       "'father'"
      ]
     },
     "execution_count": 20,
     "metadata": {},
     "output_type": "execute_result"
    }
   ],
   "source": [
    "word_tokenize(gberg_sent_tokens[1])[14]"
   ]
  },
  {
   "cell_type": "code",
   "execution_count": 21,
   "metadata": {},
   "outputs": [],
   "source": [
    "gberg_sents = gutenberg.sents()"
   ]
  },
  {
   "cell_type": "code",
   "execution_count": 22,
   "metadata": {},
   "outputs": [
    {
     "data": {
      "text/plain": [
       "[['[', 'Emma', 'by', 'Jane', 'Austen', '1816', ']'], ['VOLUME', 'I'], ...]"
      ]
     },
     "execution_count": 22,
     "metadata": {},
     "output_type": "execute_result"
    }
   ],
   "source": [
    "gberg_sents"
   ]
  },
  {
   "cell_type": "code",
   "execution_count": 23,
   "metadata": {},
   "outputs": [
    {
     "data": {
      "text/plain": [
       "[['[', 'Emma', 'by', 'Jane', 'Austen', '1816', ']'],\n",
       " ['VOLUME', 'I'],\n",
       " ['CHAPTER', 'I'],\n",
       " ['Emma',\n",
       "  'Woodhouse',\n",
       "  ',',\n",
       "  'handsome',\n",
       "  ',',\n",
       "  'clever',\n",
       "  ',',\n",
       "  'and',\n",
       "  'rich',\n",
       "  ',',\n",
       "  'with',\n",
       "  'a',\n",
       "  'comfortable',\n",
       "  'home',\n",
       "  'and',\n",
       "  'happy',\n",
       "  'disposition',\n",
       "  ',',\n",
       "  'seemed',\n",
       "  'to',\n",
       "  'unite',\n",
       "  'some',\n",
       "  'of',\n",
       "  'the',\n",
       "  'best',\n",
       "  'blessings',\n",
       "  'of',\n",
       "  'existence',\n",
       "  ';',\n",
       "  'and',\n",
       "  'had',\n",
       "  'lived',\n",
       "  'nearly',\n",
       "  'twenty',\n",
       "  '-',\n",
       "  'one',\n",
       "  'years',\n",
       "  'in',\n",
       "  'the',\n",
       "  'world',\n",
       "  'with',\n",
       "  'very',\n",
       "  'little',\n",
       "  'to',\n",
       "  'distress',\n",
       "  'or',\n",
       "  'vex',\n",
       "  'her',\n",
       "  '.'],\n",
       " ['She',\n",
       "  'was',\n",
       "  'the',\n",
       "  'youngest',\n",
       "  'of',\n",
       "  'the',\n",
       "  'two',\n",
       "  'daughters',\n",
       "  'of',\n",
       "  'a',\n",
       "  'most',\n",
       "  'affectionate',\n",
       "  ',',\n",
       "  'indulgent',\n",
       "  'father',\n",
       "  ';',\n",
       "  'and',\n",
       "  'had',\n",
       "  ',',\n",
       "  'in',\n",
       "  'consequence',\n",
       "  'of',\n",
       "  'her',\n",
       "  'sister',\n",
       "  \"'\",\n",
       "  's',\n",
       "  'marriage',\n",
       "  ',',\n",
       "  'been',\n",
       "  'mistress',\n",
       "  'of',\n",
       "  'his',\n",
       "  'house',\n",
       "  'from',\n",
       "  'a',\n",
       "  'very',\n",
       "  'early',\n",
       "  'period',\n",
       "  '.']]"
      ]
     },
     "execution_count": 23,
     "metadata": {},
     "output_type": "execute_result"
    }
   ],
   "source": [
    "gberg_sents[:5]"
   ]
  },
  {
   "cell_type": "code",
   "execution_count": 24,
   "metadata": {},
   "outputs": [
    {
     "data": {
      "text/plain": [
       "'father'"
      ]
     },
     "execution_count": 24,
     "metadata": {},
     "output_type": "execute_result"
    }
   ],
   "source": [
    "gberg_sents[4][14]"
   ]
  },
  {
   "cell_type": "code",
   "execution_count": 27,
   "metadata": {},
   "outputs": [
    {
     "data": {
      "text/plain": [
       "['[', 'Emma', 'by', 'Jane', 'Austen', '1816', ']', ...]"
      ]
     },
     "execution_count": 27,
     "metadata": {},
     "output_type": "execute_result"
    }
   ],
   "source": [
    "gutenberg.words()"
   ]
  },
  {
   "cell_type": "code",
   "execution_count": 28,
   "metadata": {},
   "outputs": [
    {
     "data": {
      "text/plain": [
       "2621613"
      ]
     },
     "execution_count": 28,
     "metadata": {},
     "output_type": "execute_result"
    }
   ],
   "source": [
    "len(gutenberg.words())"
   ]
  },
  {
   "cell_type": "markdown",
   "metadata": {},
   "source": [
    "#### Run word2vec"
   ]
  },
  {
   "cell_type": "code",
   "execution_count": 29,
   "metadata": {},
   "outputs": [],
   "source": [
    "model = Word2Vec(sentences=gberg_sents, size=64, sg=1, window=10, min_count=5, seed=42, workers=8)"
   ]
  },
  {
   "cell_type": "code",
   "execution_count": 30,
   "metadata": {},
   "outputs": [],
   "source": [
    "model.save('raw_gutenberg_model.w2v')"
   ]
  },
  {
   "cell_type": "code",
   "execution_count": 31,
   "metadata": {},
   "outputs": [
    {
     "data": {
      "text/plain": [
       "array([-0.07287128, -0.21895041,  0.50089961, -0.18768243, -0.14252156,\n",
       "        0.01486796,  0.40347156, -0.07499612,  0.24756658,  0.01703217,\n",
       "       -0.08338929,  0.03896967,  0.38482124, -0.30124941, -0.1015084 ,\n",
       "       -0.39981475, -0.36272708, -0.10503712,  0.18202372,  0.07484969,\n",
       "        0.33015215, -0.19984138, -0.16238409, -0.12887356, -0.4382332 ,\n",
       "       -0.53418607,  0.14237912, -0.37888661, -0.18201815, -0.31504101,\n",
       "        0.33080477,  0.12582567, -0.16563819, -0.46827134,  0.07930461,\n",
       "       -0.17694385,  0.09651385, -0.04543595, -0.22938986,  0.13163507,\n",
       "        0.14778599,  0.61116242, -0.56270665, -0.04190263,  0.0094288 ,\n",
       "       -0.6537683 ,  0.1226549 ,  0.09278046, -0.44691235, -0.07296982,\n",
       "       -0.66256815, -0.45016944, -0.01119038,  0.17241599, -0.0547052 ,\n",
       "        0.23399252, -0.11442073,  0.42560816,  0.17819034, -0.55136949,\n",
       "        0.0229524 , -0.43764222,  0.24359696,  0.26349312], dtype=float32)"
      ]
     },
     "execution_count": 31,
     "metadata": {},
     "output_type": "execute_result"
    }
   ],
   "source": [
    "model['dog']"
   ]
  },
  {
   "cell_type": "code",
   "execution_count": 32,
   "metadata": {},
   "outputs": [
    {
     "data": {
      "text/plain": [
       "64"
      ]
     },
     "execution_count": 32,
     "metadata": {},
     "output_type": "execute_result"
    }
   ],
   "source": [
    "len(model['dog'])"
   ]
  },
  {
   "cell_type": "code",
   "execution_count": 33,
   "metadata": {},
   "outputs": [
    {
     "data": {
      "text/plain": [
       "[('puppy', 0.8218366503715515),\n",
       " ('sweeper', 0.7896862030029297),\n",
       " ('broth', 0.7843140363693237),\n",
       " ('cage', 0.7796775698661804),\n",
       " ('cow', 0.7711084485054016),\n",
       " ('boy', 0.7704765200614929),\n",
       " ('pig', 0.7679362297058105),\n",
       " ('Truck', 0.7616097927093506),\n",
       " ('pet', 0.7581656575202942),\n",
       " ('chimney', 0.7569102048873901)]"
      ]
     },
     "execution_count": 33,
     "metadata": {},
     "output_type": "execute_result"
    }
   ],
   "source": [
    "model.most_similar('dog')"
   ]
  },
  {
   "cell_type": "code",
   "execution_count": 35,
   "metadata": {},
   "outputs": [
    {
     "data": {
      "text/plain": [
       "[('suppose', 0.8481776714324951),\n",
       " ('know', 0.8366438746452332),\n",
       " ('manage', 0.8317890167236328),\n",
       " ('interfere', 0.8269733190536499),\n",
       " ('NOW', 0.8169525265693665),\n",
       " ('believe', 0.8116503953933716),\n",
       " ('Mamma', 0.8109026551246643),\n",
       " ('contradict', 0.8096334338188171),\n",
       " ('shouldn', 0.8039518594741821),\n",
       " ('anyhow', 0.8001487255096436)]"
      ]
     },
     "execution_count": 35,
     "metadata": {},
     "output_type": "execute_result"
    }
   ],
   "source": [
    "model.most_similar('think')"
   ]
  },
  {
   "cell_type": "code",
   "execution_count": 36,
   "metadata": {},
   "outputs": [
    {
     "data": {
      "text/plain": [
       "[('mother', 0.8756468892097473),\n",
       " ('brother', 0.8503808975219727),\n",
       " ('wife', 0.7955025434494019),\n",
       " ('sister', 0.7942567467689514),\n",
       " ('daughter', 0.7784944772720337),\n",
       " ('Amnon', 0.7646536231040955),\n",
       " ('Tamar', 0.7502715587615967),\n",
       " ('uncle', 0.745048999786377),\n",
       " ('servant', 0.7361636757850647),\n",
       " ('bondwoman', 0.7323877215385437)]"
      ]
     },
     "execution_count": 36,
     "metadata": {},
     "output_type": "execute_result"
    }
   ],
   "source": [
    "model.most_similar('father')"
   ]
  },
  {
   "cell_type": "code",
   "execution_count": 40,
   "metadata": {},
   "outputs": [
    {
     "data": {
      "text/plain": [
       "'dog'"
      ]
     },
     "execution_count": 40,
     "metadata": {},
     "output_type": "execute_result"
    }
   ],
   "source": [
    "model.doesnt_match(\"mother father daughter dog\".split())"
   ]
  },
  {
   "cell_type": "code",
   "execution_count": 43,
   "metadata": {},
   "outputs": [
    {
     "data": {
      "text/plain": [
       "0.4748701070836307"
      ]
     },
     "execution_count": 43,
     "metadata": {},
     "output_type": "execute_result"
    }
   ],
   "source": [
    "model.similarity('father', 'dog')"
   ]
  },
  {
   "cell_type": "code",
   "execution_count": 45,
   "metadata": {},
   "outputs": [
    {
     "data": {
      "text/plain": [
       "[('sister', 0.7925474643707275),\n",
       " ('daughter', 0.7800456285476685),\n",
       " ('wife', 0.7742092609405518),\n",
       " ('husband', 0.7729899883270264),\n",
       " ('mother', 0.7700901031494141),\n",
       " ('Rachel', 0.7323673963546753),\n",
       " ('Tamar', 0.7207849025726318),\n",
       " ('Sarah', 0.7181402444839478),\n",
       " ('conceived', 0.7038712501525879),\n",
       " ('brother', 0.7023296356201172)]"
      ]
     },
     "execution_count": 45,
     "metadata": {},
     "output_type": "execute_result"
    }
   ],
   "source": [
    "model.most_similar(positive=['father', 'woman'], negative=['man'])"
   ]
  },
  {
   "cell_type": "code",
   "execution_count": 48,
   "metadata": {},
   "outputs": [
    {
     "data": {
      "text/plain": [
       "[('Rachel', 0.7283658385276794),\n",
       " ('Sarah', 0.7141726016998291),\n",
       " ('Laban', 0.7108159065246582),\n",
       " ('Abram', 0.7001656293869019),\n",
       " ('Leah', 0.69834303855896),\n",
       " ('Pharaoh', 0.6943529844284058),\n",
       " ('Rebekah', 0.6941794157028198),\n",
       " ('Padanaram', 0.6844695806503296),\n",
       " ('daughter', 0.6824924945831299),\n",
       " ('Hagar', 0.6811469793319702),\n",
       " ('household', 0.6602296829223633),\n",
       " ('Onan', 0.6565342545509338),\n",
       " ('Judah', 0.6546964049339294),\n",
       " ('queen', 0.6529080867767334),\n",
       " ('Bilhah', 0.6513807773590088),\n",
       " ('Hamor', 0.6500070095062256),\n",
       " ('Shechem', 0.6478291749954224),\n",
       " ('Ephron', 0.6464332938194275),\n",
       " ('damsel', 0.6462661027908325),\n",
       " ('Babylon', 0.6447507739067078),\n",
       " ('Bethuel', 0.6444916725158691),\n",
       " ('Solomon', 0.6433350443840027),\n",
       " ('birthright', 0.6425222754478455),\n",
       " ('Zilpah', 0.6415820717811584),\n",
       " ('conceived', 0.6408166885375977),\n",
       " ('Esau', 0.6407237648963928),\n",
       " ('tribute', 0.6389332413673401),\n",
       " ('Sarai', 0.6378238201141357),\n",
       " ('Lot', 0.6362273097038269),\n",
       " ('Esther', 0.6354512572288513)]"
      ]
     },
     "execution_count": 48,
     "metadata": {},
     "output_type": "execute_result"
    }
   ],
   "source": [
    "model.most_similar(positive=['king', 'woman'], negative=['man'], topn = 30)"
   ]
  },
  {
   "cell_type": "code",
   "execution_count": 49,
   "metadata": {},
   "outputs": [
    {
     "data": {
      "text/plain": [
       "[('wife', 0.7153858542442322),\n",
       " ('sister', 0.712942898273468),\n",
       " ('daughter', 0.6754405498504639),\n",
       " ('child', 0.6618490219116211),\n",
       " ('maid', 0.6545268297195435),\n",
       " ('mother', 0.6543440818786621),\n",
       " ('Rachel', 0.6373889446258545),\n",
       " ('conceived', 0.6334811449050903),\n",
       " ('elder', 0.6305655837059021),\n",
       " ('womb', 0.6286050081253052),\n",
       " ('Tamar', 0.6235758066177368),\n",
       " ('whoredoms', 0.6177126169204712),\n",
       " ('adultery', 0.6171149015426636),\n",
       " ('nurse', 0.6166940331459045),\n",
       " ('younger', 0.602920651435852),\n",
       " ('widow', 0.6012293100357056),\n",
       " ('herself', 0.5998765230178833),\n",
       " ('harlot', 0.599200963973999),\n",
       " ('daughters', 0.5990067720413208),\n",
       " ('Amnon', 0.5930418968200684),\n",
       " ('married', 0.5897575616836548),\n",
       " ('handmaid', 0.5878466367721558),\n",
       " ('bare', 0.5875099897384644),\n",
       " ('Sarah', 0.584486186504364),\n",
       " ('Leah', 0.5833151340484619),\n",
       " ('marry', 0.5793570280075073),\n",
       " ('committeth', 0.5793129205703735),\n",
       " ('Mary', 0.5785118937492371),\n",
       " ('Sarai', 0.5724281668663025),\n",
       " ('Hagar', 0.5670788884162903)]"
      ]
     },
     "execution_count": 49,
     "metadata": {},
     "output_type": "execute_result"
    }
   ],
   "source": [
    "model.most_similar(positive=['husband', 'woman'], negative=['man'], topn = 30)"
   ]
  },
  {
   "cell_type": "code",
   "execution_count": 51,
   "metadata": {},
   "outputs": [
    {
     "data": {
      "text/plain": [
       "[('Rachel', 0.7510932087898254),\n",
       " ('daughter', 0.7503650784492493),\n",
       " ('Sarah', 0.7488892078399658),\n",
       " ('Hagar', 0.7476844787597656),\n",
       " ('Leah', 0.7435696125030518),\n",
       " ('conceived', 0.7276624441146851),\n",
       " ('Rebekah', 0.7218119502067566),\n",
       " ('Sarai', 0.7201859951019287),\n",
       " ('wife', 0.7177450060844421),\n",
       " ('Onan', 0.7142730951309204),\n",
       " ('Esau', 0.7067197561264038),\n",
       " ('Abram', 0.7062598466873169),\n",
       " ('Caleb', 0.7034053206443787),\n",
       " ('Zilpah', 0.6963765621185303),\n",
       " ('Bilhah', 0.6960214376449585),\n",
       " ('Jesse', 0.6959735155105591),\n",
       " ('Bethuel', 0.6933231949806213),\n",
       " ('bare', 0.6929922699928284),\n",
       " ('Jephunneh', 0.6867851614952087),\n",
       " ('Tamar', 0.6861453652381897),\n",
       " ('Nahor', 0.6857469081878662),\n",
       " ('Hittite', 0.682796835899353),\n",
       " ('Laban', 0.6801763772964478),\n",
       " ('Milcah', 0.6759402751922607),\n",
       " ('Er', 0.6700998544692993),\n",
       " ('Shelah', 0.6696180701255798),\n",
       " ('Hamor', 0.6691362857818604),\n",
       " ('sister', 0.6690043210983276),\n",
       " ('Adah', 0.6681321859359741),\n",
       " ('firstborn', 0.6603237390518188),\n",
       " ('Haran', 0.6601136922836304),\n",
       " ('bondwoman', 0.6592249870300293),\n",
       " ('Isaac', 0.6562743186950684),\n",
       " ('Uri', 0.6547175049781799),\n",
       " ('Zelophehad', 0.654451847076416),\n",
       " ('concubine', 0.6520639657974243),\n",
       " ('Padanaram', 0.651070773601532),\n",
       " ('brother', 0.648606538772583),\n",
       " ('Machir', 0.6484096646308899),\n",
       " ('Nun', 0.6468347311019897),\n",
       " ('Bashemath', 0.6457632184028625),\n",
       " ('Ner', 0.6444839239120483),\n",
       " ('Ishmael', 0.6428676843643188),\n",
       " ('Mephibosheth', 0.6402256488800049),\n",
       " ('Hur', 0.6389110088348389),\n",
       " ('begat', 0.6385810971260071),\n",
       " ('Shimei', 0.6375067234039307),\n",
       " ('Uriah', 0.6341705322265625),\n",
       " ('Maachah', 0.6336129903793335),\n",
       " ('Pharez', 0.6321806907653809),\n",
       " ('Eleazar', 0.6319431662559509),\n",
       " ('handmaid', 0.6285786628723145),\n",
       " ('Ephron', 0.6284623742103577),\n",
       " ('birthright', 0.6267123222351074),\n",
       " ('father', 0.6245216131210327),\n",
       " ('Hepher', 0.6243860125541687),\n",
       " ('daughters', 0.6240108013153076),\n",
       " ('Heth', 0.6239108443260193),\n",
       " ('Joseph', 0.6228504180908203),\n",
       " ('Seth', 0.6226089000701904),\n",
       " ('husband', 0.6219558715820312),\n",
       " ('Bezaleel', 0.6216557025909424),\n",
       " ('Abigail', 0.6210131645202637),\n",
       " ('Abraham', 0.6209810972213745),\n",
       " ('Kish', 0.6209230422973633),\n",
       " ('Hezron', 0.620414137840271),\n",
       " ('Elon', 0.6197391748428345),\n",
       " ('herdmen', 0.6197350025177002),\n",
       " ('Ammihud', 0.6197152733802795),\n",
       " ('Barzillai', 0.6179933547973633),\n",
       " ('Abihail', 0.6174891591072083),\n",
       " ('Shechem', 0.6169917583465576),\n",
       " ('Hivite', 0.6150457262992859),\n",
       " ('Ruth', 0.6140739321708679),\n",
       " ('younger', 0.6139560341835022),\n",
       " ('Zibeon', 0.612886905670166),\n",
       " ('Amnon', 0.6118614077568054),\n",
       " ('Gilead', 0.6118313074111938),\n",
       " ('household', 0.6110544204711914),\n",
       " ('elder', 0.6107251644134521),\n",
       " ('Ishbosheth', 0.6106938123703003),\n",
       " ('Shaul', 0.6103243827819824),\n",
       " ('Jethro', 0.6101354360580444),\n",
       " ('Zerah', 0.6088031530380249),\n",
       " ('prophetess', 0.6086956262588501),\n",
       " ('Carmi', 0.608279824256897),\n",
       " ('Abiathar', 0.6081415414810181),\n",
       " ('Reuel', 0.6077681183815002),\n",
       " ('Boaz', 0.6075709462165833),\n",
       " ('Zurishaddai', 0.606992244720459),\n",
       " ('Achan', 0.606339156627655),\n",
       " ('Abimelech', 0.6061020493507385),\n",
       " ('Pedahzur', 0.6054515838623047),\n",
       " ('Naomi', 0.605313777923584),\n",
       " ('Anathoth', 0.6031793355941772),\n",
       " ('Anah', 0.6030537486076355),\n",
       " ('Zadok', 0.6025618314743042),\n",
       " ('Michal', 0.6021437644958496),\n",
       " ('Enoch', 0.602093517780304),\n",
       " ('Nadab', 0.6019272804260254)]"
      ]
     },
     "execution_count": 51,
     "metadata": {},
     "output_type": "execute_result"
    }
   ],
   "source": [
    "model.most_similar(positive=['son', 'woman'], negative=['man'], topn = 100)"
   ]
  },
  {
   "cell_type": "markdown",
   "metadata": {},
   "source": [
    "#### Reduce word vector dimensionality with t-SNE"
   ]
  },
  {
   "cell_type": "code",
   "execution_count": 52,
   "metadata": {},
   "outputs": [
    {
     "data": {
      "text/plain": [
       "17011"
      ]
     },
     "execution_count": 52,
     "metadata": {},
     "output_type": "execute_result"
    }
   ],
   "source": [
    "len(model.wv.vocab)"
   ]
  },
  {
   "cell_type": "code",
   "execution_count": null,
   "metadata": {},
   "outputs": [],
   "source": [
    "X = model[model.wv.vocab]"
   ]
  },
  {
   "cell_type": "code",
   "execution_count": null,
   "metadata": {},
   "outputs": [],
   "source": [
    "tsne = TSNE(n_components=2, n_iter=1000)"
   ]
  },
  {
   "cell_type": "code",
   "execution_count": null,
   "metadata": {},
   "outputs": [],
   "source": [
    "X_2d = tsne.fit_transform(X)"
   ]
  },
  {
   "cell_type": "code",
   "execution_count": null,
   "metadata": {},
   "outputs": [],
   "source": [
    "coords_df = pd.DataFrame(X_2d, columns=['x', 'y'])\n",
    "coords_df['token'] = model.wv.vocab.keys()"
   ]
  },
  {
   "cell_type": "code",
   "execution_count": null,
   "metadata": {},
   "outputs": [],
   "source": [
    "coords_df.head()"
   ]
  },
  {
   "cell_type": "code",
   "execution_count": null,
   "metadata": {},
   "outputs": [],
   "source": [
    "coords_df.to_csv('raw_gutenberg_tsne.csv', index=False)"
   ]
  },
  {
   "cell_type": "markdown",
   "metadata": {},
   "source": [
    "#### Visualize 2D Representation of Word Vectors"
   ]
  },
  {
   "cell_type": "code",
   "execution_count": null,
   "metadata": {},
   "outputs": [],
   "source": [
    "coords_df = pd.read_csv('raw_gutenberg_tsne.csv')"
   ]
  },
  {
   "cell_type": "code",
   "execution_count": null,
   "metadata": {},
   "outputs": [],
   "source": [
    "coords_df.head(20)"
   ]
  },
  {
   "cell_type": "code",
   "execution_count": null,
   "metadata": {},
   "outputs": [],
   "source": []
  }
 ],
 "metadata": {
  "kernelspec": {
   "display_name": "Python 3",
   "language": "python",
   "name": "python3"
  },
  "language_info": {
   "codemirror_mode": {
    "name": "ipython",
    "version": 3
   },
   "file_extension": ".py",
   "mimetype": "text/x-python",
   "name": "python",
   "nbconvert_exporter": "python",
   "pygments_lexer": "ipython3",
   "version": "3.6.3"
  }
 },
 "nbformat": 4,
 "nbformat_minor": 2
}
